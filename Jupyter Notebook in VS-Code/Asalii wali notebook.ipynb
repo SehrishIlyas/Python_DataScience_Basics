{
 "cells": [
  {
   "cell_type": "markdown",
   "metadata": {},
   "source": [
    "# Participant\n",
    "Title= \"Student\"\\\n",
    "Name= \"Sehrish Ilyas\"\\\n",
    "email = \"sehrishilyas3@gmail.com\"\\\n",
    "whatsapp = \"00923344698901\""
   ]
  },
  {
   "cell_type": "markdown",
   "metadata": {},
   "source": []
  }
 ],
 "metadata": {
  "language_info": {
   "name": "python"
  },
  "orig_nbformat": 4
 },
 "nbformat": 4,
 "nbformat_minor": 2
}
